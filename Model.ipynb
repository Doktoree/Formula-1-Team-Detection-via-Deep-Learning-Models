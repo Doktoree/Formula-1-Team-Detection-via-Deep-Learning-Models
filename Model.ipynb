{
  "nbformat": 4,
  "nbformat_minor": 0,
  "metadata": {
    "colab": {
      "provenance": [],
      "gpuType": "T4"
    },
    "kernelspec": {
      "name": "python3",
      "display_name": "Python 3"
    },
    "language_info": {
      "name": "python"
    },
    "accelerator": "GPU"
  },
  "cells": [
    {
      "cell_type": "markdown",
      "source": [
        "Ovo je model koji služi za prepoznavanje izgleda bolida tima u Formuli 1 na osnovu date slike. Ukupno postoji 10 timova: Mercedes, McLaren, Williams, Red Bull, Racing Bulls, Kick Sauber, Ferrari, Haas, Alpine i Aston Martin. Dataset ukupno sadrži 983 slike bolida. Kao baza ovog modela koristi se pretrenirani model ResNet50 koji je pogodan za detekciju slika. U prvom koraku koristi se tzv. ekstrakcija osobina (feature extraction), gde se izlazi iz baznog modela koriste kao ulazi za dodatne, sopstvene slojeve modela. Nakon toga otključavamo bazu modela radi tzv. fine-tuninga, tj. dodatnog treniranja celog modela kako bi se bolje prilagodio konkretnom zadatku i poboljšao preciznost."
      ],
      "metadata": {
        "id": "1NfXC2KYkSZe"
      }
    },
    {
      "cell_type": "code",
      "source": [
        "!pip -q install tensorflow"
      ],
      "metadata": {
        "id": "xHoe63Aikdar"
      },
      "execution_count": 1,
      "outputs": []
    },
    {
      "cell_type": "code",
      "source": [
        "from google.colab import files\n",
        "uploaded = files.upload()"
      ],
      "metadata": {
        "colab": {
          "base_uri": "https://localhost:8080/",
          "height": 73
        },
        "id": "KkfacPOBQcD_",
        "outputId": "75fbb869-c5e8-4e3c-959e-34215305a373"
      },
      "execution_count": 3,
      "outputs": [
        {
          "output_type": "display_data",
          "data": {
            "text/plain": [
              "<IPython.core.display.HTML object>"
            ],
            "text/html": [
              "\n",
              "     <input type=\"file\" id=\"files-cb8fa68d-3b78-4edf-8e5d-c8d927ad6e1c\" name=\"files[]\" multiple disabled\n",
              "        style=\"border:none\" />\n",
              "     <output id=\"result-cb8fa68d-3b78-4edf-8e5d-c8d927ad6e1c\">\n",
              "      Upload widget is only available when the cell has been executed in the\n",
              "      current browser session. Please rerun this cell to enable.\n",
              "      </output>\n",
              "      <script>// Copyright 2017 Google LLC\n",
              "//\n",
              "// Licensed under the Apache License, Version 2.0 (the \"License\");\n",
              "// you may not use this file except in compliance with the License.\n",
              "// You may obtain a copy of the License at\n",
              "//\n",
              "//      http://www.apache.org/licenses/LICENSE-2.0\n",
              "//\n",
              "// Unless required by applicable law or agreed to in writing, software\n",
              "// distributed under the License is distributed on an \"AS IS\" BASIS,\n",
              "// WITHOUT WARRANTIES OR CONDITIONS OF ANY KIND, either express or implied.\n",
              "// See the License for the specific language governing permissions and\n",
              "// limitations under the License.\n",
              "\n",
              "/**\n",
              " * @fileoverview Helpers for google.colab Python module.\n",
              " */\n",
              "(function(scope) {\n",
              "function span(text, styleAttributes = {}) {\n",
              "  const element = document.createElement('span');\n",
              "  element.textContent = text;\n",
              "  for (const key of Object.keys(styleAttributes)) {\n",
              "    element.style[key] = styleAttributes[key];\n",
              "  }\n",
              "  return element;\n",
              "}\n",
              "\n",
              "// Max number of bytes which will be uploaded at a time.\n",
              "const MAX_PAYLOAD_SIZE = 100 * 1024;\n",
              "\n",
              "function _uploadFiles(inputId, outputId) {\n",
              "  const steps = uploadFilesStep(inputId, outputId);\n",
              "  const outputElement = document.getElementById(outputId);\n",
              "  // Cache steps on the outputElement to make it available for the next call\n",
              "  // to uploadFilesContinue from Python.\n",
              "  outputElement.steps = steps;\n",
              "\n",
              "  return _uploadFilesContinue(outputId);\n",
              "}\n",
              "\n",
              "// This is roughly an async generator (not supported in the browser yet),\n",
              "// where there are multiple asynchronous steps and the Python side is going\n",
              "// to poll for completion of each step.\n",
              "// This uses a Promise to block the python side on completion of each step,\n",
              "// then passes the result of the previous step as the input to the next step.\n",
              "function _uploadFilesContinue(outputId) {\n",
              "  const outputElement = document.getElementById(outputId);\n",
              "  const steps = outputElement.steps;\n",
              "\n",
              "  const next = steps.next(outputElement.lastPromiseValue);\n",
              "  return Promise.resolve(next.value.promise).then((value) => {\n",
              "    // Cache the last promise value to make it available to the next\n",
              "    // step of the generator.\n",
              "    outputElement.lastPromiseValue = value;\n",
              "    return next.value.response;\n",
              "  });\n",
              "}\n",
              "\n",
              "/**\n",
              " * Generator function which is called between each async step of the upload\n",
              " * process.\n",
              " * @param {string} inputId Element ID of the input file picker element.\n",
              " * @param {string} outputId Element ID of the output display.\n",
              " * @return {!Iterable<!Object>} Iterable of next steps.\n",
              " */\n",
              "function* uploadFilesStep(inputId, outputId) {\n",
              "  const inputElement = document.getElementById(inputId);\n",
              "  inputElement.disabled = false;\n",
              "\n",
              "  const outputElement = document.getElementById(outputId);\n",
              "  outputElement.innerHTML = '';\n",
              "\n",
              "  const pickedPromise = new Promise((resolve) => {\n",
              "    inputElement.addEventListener('change', (e) => {\n",
              "      resolve(e.target.files);\n",
              "    });\n",
              "  });\n",
              "\n",
              "  const cancel = document.createElement('button');\n",
              "  inputElement.parentElement.appendChild(cancel);\n",
              "  cancel.textContent = 'Cancel upload';\n",
              "  const cancelPromise = new Promise((resolve) => {\n",
              "    cancel.onclick = () => {\n",
              "      resolve(null);\n",
              "    };\n",
              "  });\n",
              "\n",
              "  // Wait for the user to pick the files.\n",
              "  const files = yield {\n",
              "    promise: Promise.race([pickedPromise, cancelPromise]),\n",
              "    response: {\n",
              "      action: 'starting',\n",
              "    }\n",
              "  };\n",
              "\n",
              "  cancel.remove();\n",
              "\n",
              "  // Disable the input element since further picks are not allowed.\n",
              "  inputElement.disabled = true;\n",
              "\n",
              "  if (!files) {\n",
              "    return {\n",
              "      response: {\n",
              "        action: 'complete',\n",
              "      }\n",
              "    };\n",
              "  }\n",
              "\n",
              "  for (const file of files) {\n",
              "    const li = document.createElement('li');\n",
              "    li.append(span(file.name, {fontWeight: 'bold'}));\n",
              "    li.append(span(\n",
              "        `(${file.type || 'n/a'}) - ${file.size} bytes, ` +\n",
              "        `last modified: ${\n",
              "            file.lastModifiedDate ? file.lastModifiedDate.toLocaleDateString() :\n",
              "                                    'n/a'} - `));\n",
              "    const percent = span('0% done');\n",
              "    li.appendChild(percent);\n",
              "\n",
              "    outputElement.appendChild(li);\n",
              "\n",
              "    const fileDataPromise = new Promise((resolve) => {\n",
              "      const reader = new FileReader();\n",
              "      reader.onload = (e) => {\n",
              "        resolve(e.target.result);\n",
              "      };\n",
              "      reader.readAsArrayBuffer(file);\n",
              "    });\n",
              "    // Wait for the data to be ready.\n",
              "    let fileData = yield {\n",
              "      promise: fileDataPromise,\n",
              "      response: {\n",
              "        action: 'continue',\n",
              "      }\n",
              "    };\n",
              "\n",
              "    // Use a chunked sending to avoid message size limits. See b/62115660.\n",
              "    let position = 0;\n",
              "    do {\n",
              "      const length = Math.min(fileData.byteLength - position, MAX_PAYLOAD_SIZE);\n",
              "      const chunk = new Uint8Array(fileData, position, length);\n",
              "      position += length;\n",
              "\n",
              "      const base64 = btoa(String.fromCharCode.apply(null, chunk));\n",
              "      yield {\n",
              "        response: {\n",
              "          action: 'append',\n",
              "          file: file.name,\n",
              "          data: base64,\n",
              "        },\n",
              "      };\n",
              "\n",
              "      let percentDone = fileData.byteLength === 0 ?\n",
              "          100 :\n",
              "          Math.round((position / fileData.byteLength) * 100);\n",
              "      percent.textContent = `${percentDone}% done`;\n",
              "\n",
              "    } while (position < fileData.byteLength);\n",
              "  }\n",
              "\n",
              "  // All done.\n",
              "  yield {\n",
              "    response: {\n",
              "      action: 'complete',\n",
              "    }\n",
              "  };\n",
              "}\n",
              "\n",
              "scope.google = scope.google || {};\n",
              "scope.google.colab = scope.google.colab || {};\n",
              "scope.google.colab._files = {\n",
              "  _uploadFiles,\n",
              "  _uploadFilesContinue,\n",
              "};\n",
              "})(self);\n",
              "</script> "
            ]
          },
          "metadata": {}
        },
        {
          "output_type": "stream",
          "name": "stdout",
          "text": [
            "Saving Dataset.zip to Dataset.zip\n"
          ]
        }
      ]
    },
    {
      "cell_type": "code",
      "source": [
        "import os\n",
        "import zipfile\n",
        "\n",
        "zip_path = 'Dataset.zip'\n",
        "extract_path = 'dataset'\n",
        "\n",
        "with zipfile.ZipFile(zip_path, 'r') as zip_ref:\n",
        "    zip_ref.extractall(extract_path)"
      ],
      "metadata": {
        "id": "BzNWVyfwQ2hM"
      },
      "execution_count": 4,
      "outputs": []
    },
    {
      "cell_type": "code",
      "source": [
        "# Učitavanje slika iz foldera, automatski određujući klase prema podfolderima\n",
        "\n",
        "import keras\n",
        "import tensorflow as tf\n",
        "import numpy as np\n",
        "\n",
        "dataset = keras.utils.image_dataset_from_directory(\n",
        "    'dataset/Dataset', # Putanja do dataset-a\n",
        "    image_size = (224,224), # Dimenzije na koje će sve slike biti skalirane\n",
        "    batch_size = 32 # Broj slika po batch-u\n",
        "    )\n",
        "\n",
        "print(f'Classes: {dataset.class_names}' )\n",
        "\n",
        "number_of_classes = len(dataset.class_names) # Ukupan broj klasa, odnosno broj izlaza\n",
        "\n",
        "# Postupak razdvajanja na slike(X) i labele(Y)\n",
        "\n",
        "X = []\n",
        "Y = []\n",
        "\n",
        "for image,label in dataset:\n",
        "  X.append(image)\n",
        "  Y.append(label)\n",
        "\n",
        "# Spajanje tensor-a, kako bi mogao da se vrši trening\n",
        "\n",
        "X = tf.concat(X, axis = 0)\n",
        "Y = tf.concat(Y, axis = 0)"
      ],
      "metadata": {
        "colab": {
          "base_uri": "https://localhost:8080/"
        },
        "id": "Pl66MGZhRk5W",
        "outputId": "9a37f3a6-6b5f-4da9-9a8f-46a52f2a50b6"
      },
      "execution_count": 5,
      "outputs": [
        {
          "output_type": "stream",
          "name": "stdout",
          "text": [
            "Found 983 files belonging to 10 classes.\n",
            "Classes: ['Alpine', 'Aston Martin', 'Ferrari', 'Haas', 'Kick Sauber', 'McLaren', 'Mercedes', 'Racing Bulls', 'Red Bull', 'Williams']\n"
          ]
        }
      ]
    },
    {
      "cell_type": "code",
      "source": [
        "# Deljenje podataka na trening i test set\n",
        "\n",
        "from sklearn.model_selection import train_test_split\n",
        "\n",
        "X_np = X.numpy()\n",
        "Y_np = Y.numpy()\n",
        "\n",
        "X_train, X_test, Y_train, Y_test = train_test_split(X_np, Y_np, test_size = 0.2, random_state = 42)"
      ],
      "metadata": {
        "id": "LktDq3qYCIUI"
      },
      "execution_count": 6,
      "outputs": []
    },
    {
      "cell_type": "code",
      "source": [
        "# Kreiranje normalizacionog sloja koji vrši normalizacija na ulazne podatke, prema ResNet50 uputstvima\n",
        "\n",
        "normalization_layer = keras.layers.Lambda(keras.applications.resnet50.preprocess_input)\n",
        "\n",
        "# Kreiranje augmentacionog sloja, kako bi model bolje generalizovao i kako bi se povećao broj ulaznih podataka\n",
        "\n",
        "data_augmentation = keras.Sequential([\n",
        "    keras.layers.RandomFlip(\"horizontal\"),\n",
        "    keras.layers.RandomRotation(0.05),\n",
        "    keras.layers.RandomZoom(0.05),\n",
        "    keras.layers.RandomContrast(0.05),\n",
        "    keras.layers.RandomBrightness(0.05)\n",
        "])"
      ],
      "metadata": {
        "id": "zg8-2U2DaQdg"
      },
      "execution_count": 7,
      "outputs": []
    },
    {
      "cell_type": "code",
      "source": [
        "# Učitavanje RestNet50 modela, ali bez poslednjeg sloja\n",
        "\n",
        "base_model = keras.applications.ResNet50(weights = \"imagenet\", input_shape = (224,224,3), include_top = False)\n",
        "base_model.trainable = False\n",
        "\n",
        "# Kreiranje modela\n",
        "\n",
        "model = keras.Sequential([\n",
        "    data_augmentation,\n",
        "    normalization_layer,\n",
        "    base_model,\n",
        "    keras.layers.GlobalAveragePooling2D(),\n",
        "    keras.layers.Dense(1024, activation=\"relu\"),\n",
        "    keras.layers.Dense(1024,activation=\"relu\"),\n",
        "    keras.layers.Dropout(0.5),\n",
        "    keras.layers.Dense(number_of_classes, activation = \"softmax\")\n",
        "])\n",
        "\n",
        "# Kompajliranje modela\n",
        "\n",
        "model.compile(optimizer = keras.optimizers.Adam(learning_rate=1e-4), metrics = [\"accuracy\"], loss = keras.losses.SparseCategoricalCrossentropy())\n"
      ],
      "metadata": {
        "id": "8HE1chvUk1H0",
        "colab": {
          "base_uri": "https://localhost:8080/"
        },
        "outputId": "adb7bdfe-94e9-43a7-99b3-947cd63b5321"
      },
      "execution_count": 8,
      "outputs": [
        {
          "output_type": "stream",
          "name": "stdout",
          "text": [
            "Downloading data from https://storage.googleapis.com/tensorflow/keras-applications/resnet/resnet50_weights_tf_dim_ordering_tf_kernels_notop.h5\n",
            "\u001b[1m94765736/94765736\u001b[0m \u001b[32m━━━━━━━━━━━━━━━━━━━━\u001b[0m\u001b[37m\u001b[0m \u001b[1m5s\u001b[0m 0us/step\n"
          ]
        }
      ]
    },
    {
      "cell_type": "code",
      "source": [
        "# Prikaz arhitekture modela\n",
        "\n",
        "model.summary()"
      ],
      "metadata": {
        "colab": {
          "base_uri": "https://localhost:8080/",
          "height": 401
        },
        "id": "i3kjHQL9mdpj",
        "outputId": "57ea9929-1e1b-4759-e4da-658ce275f43f"
      },
      "execution_count": 9,
      "outputs": [
        {
          "output_type": "display_data",
          "data": {
            "text/plain": [
              "\u001b[1mModel: \"sequential_1\"\u001b[0m\n"
            ],
            "text/html": [
              "<pre style=\"white-space:pre;overflow-x:auto;line-height:normal;font-family:Menlo,'DejaVu Sans Mono',consolas,'Courier New',monospace\"><span style=\"font-weight: bold\">Model: \"sequential_1\"</span>\n",
              "</pre>\n"
            ]
          },
          "metadata": {}
        },
        {
          "output_type": "display_data",
          "data": {
            "text/plain": [
              "┏━━━━━━━━━━━━━━━━━━━━━━━━━━━━━━━━━┳━━━━━━━━━━━━━━━━━━━━━━━━┳━━━━━━━━━━━━━━━┓\n",
              "┃\u001b[1m \u001b[0m\u001b[1mLayer (type)                   \u001b[0m\u001b[1m \u001b[0m┃\u001b[1m \u001b[0m\u001b[1mOutput Shape          \u001b[0m\u001b[1m \u001b[0m┃\u001b[1m \u001b[0m\u001b[1m      Param #\u001b[0m\u001b[1m \u001b[0m┃\n",
              "┡━━━━━━━━━━━━━━━━━━━━━━━━━━━━━━━━━╇━━━━━━━━━━━━━━━━━━━━━━━━╇━━━━━━━━━━━━━━━┩\n",
              "│ sequential (\u001b[38;5;33mSequential\u001b[0m)         │ ?                      │   \u001b[38;5;34m0\u001b[0m (unbuilt) │\n",
              "├─────────────────────────────────┼────────────────────────┼───────────────┤\n",
              "│ lambda (\u001b[38;5;33mLambda\u001b[0m)                 │ ?                      │   \u001b[38;5;34m0\u001b[0m (unbuilt) │\n",
              "├─────────────────────────────────┼────────────────────────┼───────────────┤\n",
              "│ resnet50 (\u001b[38;5;33mFunctional\u001b[0m)           │ (\u001b[38;5;45mNone\u001b[0m, \u001b[38;5;34m7\u001b[0m, \u001b[38;5;34m7\u001b[0m, \u001b[38;5;34m2048\u001b[0m)     │    \u001b[38;5;34m23,587,712\u001b[0m │\n",
              "├─────────────────────────────────┼────────────────────────┼───────────────┤\n",
              "│ global_average_pooling2d        │ ?                      │             \u001b[38;5;34m0\u001b[0m │\n",
              "│ (\u001b[38;5;33mGlobalAveragePooling2D\u001b[0m)        │                        │               │\n",
              "├─────────────────────────────────┼────────────────────────┼───────────────┤\n",
              "│ dense (\u001b[38;5;33mDense\u001b[0m)                   │ ?                      │   \u001b[38;5;34m0\u001b[0m (unbuilt) │\n",
              "├─────────────────────────────────┼────────────────────────┼───────────────┤\n",
              "│ dense_1 (\u001b[38;5;33mDense\u001b[0m)                 │ ?                      │   \u001b[38;5;34m0\u001b[0m (unbuilt) │\n",
              "├─────────────────────────────────┼────────────────────────┼───────────────┤\n",
              "│ dropout (\u001b[38;5;33mDropout\u001b[0m)               │ ?                      │             \u001b[38;5;34m0\u001b[0m │\n",
              "├─────────────────────────────────┼────────────────────────┼───────────────┤\n",
              "│ dense_2 (\u001b[38;5;33mDense\u001b[0m)                 │ ?                      │   \u001b[38;5;34m0\u001b[0m (unbuilt) │\n",
              "└─────────────────────────────────┴────────────────────────┴───────────────┘\n"
            ],
            "text/html": [
              "<pre style=\"white-space:pre;overflow-x:auto;line-height:normal;font-family:Menlo,'DejaVu Sans Mono',consolas,'Courier New',monospace\">┏━━━━━━━━━━━━━━━━━━━━━━━━━━━━━━━━━┳━━━━━━━━━━━━━━━━━━━━━━━━┳━━━━━━━━━━━━━━━┓\n",
              "┃<span style=\"font-weight: bold\"> Layer (type)                    </span>┃<span style=\"font-weight: bold\"> Output Shape           </span>┃<span style=\"font-weight: bold\">       Param # </span>┃\n",
              "┡━━━━━━━━━━━━━━━━━━━━━━━━━━━━━━━━━╇━━━━━━━━━━━━━━━━━━━━━━━━╇━━━━━━━━━━━━━━━┩\n",
              "│ sequential (<span style=\"color: #0087ff; text-decoration-color: #0087ff\">Sequential</span>)         │ ?                      │   <span style=\"color: #00af00; text-decoration-color: #00af00\">0</span> (unbuilt) │\n",
              "├─────────────────────────────────┼────────────────────────┼───────────────┤\n",
              "│ lambda (<span style=\"color: #0087ff; text-decoration-color: #0087ff\">Lambda</span>)                 │ ?                      │   <span style=\"color: #00af00; text-decoration-color: #00af00\">0</span> (unbuilt) │\n",
              "├─────────────────────────────────┼────────────────────────┼───────────────┤\n",
              "│ resnet50 (<span style=\"color: #0087ff; text-decoration-color: #0087ff\">Functional</span>)           │ (<span style=\"color: #00d7ff; text-decoration-color: #00d7ff\">None</span>, <span style=\"color: #00af00; text-decoration-color: #00af00\">7</span>, <span style=\"color: #00af00; text-decoration-color: #00af00\">7</span>, <span style=\"color: #00af00; text-decoration-color: #00af00\">2048</span>)     │    <span style=\"color: #00af00; text-decoration-color: #00af00\">23,587,712</span> │\n",
              "├─────────────────────────────────┼────────────────────────┼───────────────┤\n",
              "│ global_average_pooling2d        │ ?                      │             <span style=\"color: #00af00; text-decoration-color: #00af00\">0</span> │\n",
              "│ (<span style=\"color: #0087ff; text-decoration-color: #0087ff\">GlobalAveragePooling2D</span>)        │                        │               │\n",
              "├─────────────────────────────────┼────────────────────────┼───────────────┤\n",
              "│ dense (<span style=\"color: #0087ff; text-decoration-color: #0087ff\">Dense</span>)                   │ ?                      │   <span style=\"color: #00af00; text-decoration-color: #00af00\">0</span> (unbuilt) │\n",
              "├─────────────────────────────────┼────────────────────────┼───────────────┤\n",
              "│ dense_1 (<span style=\"color: #0087ff; text-decoration-color: #0087ff\">Dense</span>)                 │ ?                      │   <span style=\"color: #00af00; text-decoration-color: #00af00\">0</span> (unbuilt) │\n",
              "├─────────────────────────────────┼────────────────────────┼───────────────┤\n",
              "│ dropout (<span style=\"color: #0087ff; text-decoration-color: #0087ff\">Dropout</span>)               │ ?                      │             <span style=\"color: #00af00; text-decoration-color: #00af00\">0</span> │\n",
              "├─────────────────────────────────┼────────────────────────┼───────────────┤\n",
              "│ dense_2 (<span style=\"color: #0087ff; text-decoration-color: #0087ff\">Dense</span>)                 │ ?                      │   <span style=\"color: #00af00; text-decoration-color: #00af00\">0</span> (unbuilt) │\n",
              "└─────────────────────────────────┴────────────────────────┴───────────────┘\n",
              "</pre>\n"
            ]
          },
          "metadata": {}
        },
        {
          "output_type": "display_data",
          "data": {
            "text/plain": [
              "\u001b[1m Total params: \u001b[0m\u001b[38;5;34m23,587,712\u001b[0m (89.98 MB)\n"
            ],
            "text/html": [
              "<pre style=\"white-space:pre;overflow-x:auto;line-height:normal;font-family:Menlo,'DejaVu Sans Mono',consolas,'Courier New',monospace\"><span style=\"font-weight: bold\"> Total params: </span><span style=\"color: #00af00; text-decoration-color: #00af00\">23,587,712</span> (89.98 MB)\n",
              "</pre>\n"
            ]
          },
          "metadata": {}
        },
        {
          "output_type": "display_data",
          "data": {
            "text/plain": [
              "\u001b[1m Trainable params: \u001b[0m\u001b[38;5;34m0\u001b[0m (0.00 B)\n"
            ],
            "text/html": [
              "<pre style=\"white-space:pre;overflow-x:auto;line-height:normal;font-family:Menlo,'DejaVu Sans Mono',consolas,'Courier New',monospace\"><span style=\"font-weight: bold\"> Trainable params: </span><span style=\"color: #00af00; text-decoration-color: #00af00\">0</span> (0.00 B)\n",
              "</pre>\n"
            ]
          },
          "metadata": {}
        },
        {
          "output_type": "display_data",
          "data": {
            "text/plain": [
              "\u001b[1m Non-trainable params: \u001b[0m\u001b[38;5;34m23,587,712\u001b[0m (89.98 MB)\n"
            ],
            "text/html": [
              "<pre style=\"white-space:pre;overflow-x:auto;line-height:normal;font-family:Menlo,'DejaVu Sans Mono',consolas,'Courier New',monospace\"><span style=\"font-weight: bold\"> Non-trainable params: </span><span style=\"color: #00af00; text-decoration-color: #00af00\">23,587,712</span> (89.98 MB)\n",
              "</pre>\n"
            ]
          },
          "metadata": {}
        }
      ]
    },
    {
      "cell_type": "code",
      "source": [
        "# Definisanje callback funkcije u slučaju da model stagnira sa treniranjem\n",
        "\n",
        "callbacks = [keras.callbacks.EarlyStopping(patience=4, restore_best_weights=True)]\n",
        "\n",
        "# Treniranje modela\n",
        "\n",
        "model.fit(X_train, Y_train, batch_size = 64, epochs = 20, validation_split=0.1, callbacks=callbacks)"
      ],
      "metadata": {
        "colab": {
          "base_uri": "https://localhost:8080/"
        },
        "id": "iV5pWcX3mjtT",
        "outputId": "4984d7e6-f067-46d5-889b-a0ae737b421a"
      },
      "execution_count": 10,
      "outputs": [
        {
          "output_type": "stream",
          "name": "stdout",
          "text": [
            "Epoch 1/20\n",
            "\u001b[1m12/12\u001b[0m \u001b[32m━━━━━━━━━━━━━━━━━━━━\u001b[0m\u001b[37m\u001b[0m \u001b[1m21s\u001b[0m 616ms/step - accuracy: 0.1293 - loss: 2.5201 - val_accuracy: 0.3165 - val_loss: 1.9902\n",
            "Epoch 2/20\n",
            "\u001b[1m12/12\u001b[0m \u001b[32m━━━━━━━━━━━━━━━━━━━━\u001b[0m\u001b[37m\u001b[0m \u001b[1m12s\u001b[0m 299ms/step - accuracy: 0.3204 - loss: 1.9457 - val_accuracy: 0.4810 - val_loss: 1.6883\n",
            "Epoch 3/20\n",
            "\u001b[1m12/12\u001b[0m \u001b[32m━━━━━━━━━━━━━━━━━━━━\u001b[0m\u001b[37m\u001b[0m \u001b[1m4s\u001b[0m 351ms/step - accuracy: 0.4557 - loss: 1.6212 - val_accuracy: 0.6962 - val_loss: 1.4397\n",
            "Epoch 4/20\n",
            "\u001b[1m12/12\u001b[0m \u001b[32m━━━━━━━━━━━━━━━━━━━━\u001b[0m\u001b[37m\u001b[0m \u001b[1m5s\u001b[0m 298ms/step - accuracy: 0.5730 - loss: 1.4177 - val_accuracy: 0.6962 - val_loss: 1.2818\n",
            "Epoch 5/20\n",
            "\u001b[1m12/12\u001b[0m \u001b[32m━━━━━━━━━━━━━━━━━━━━\u001b[0m\u001b[37m\u001b[0m \u001b[1m4s\u001b[0m 299ms/step - accuracy: 0.5985 - loss: 1.2291 - val_accuracy: 0.6962 - val_loss: 1.1745\n",
            "Epoch 6/20\n",
            "\u001b[1m12/12\u001b[0m \u001b[32m━━━━━━━━━━━━━━━━━━━━\u001b[0m\u001b[37m\u001b[0m \u001b[1m3s\u001b[0m 277ms/step - accuracy: 0.6929 - loss: 1.0348 - val_accuracy: 0.7595 - val_loss: 0.9954\n",
            "Epoch 7/20\n",
            "\u001b[1m12/12\u001b[0m \u001b[32m━━━━━━━━━━━━━━━━━━━━\u001b[0m\u001b[37m\u001b[0m \u001b[1m4s\u001b[0m 305ms/step - accuracy: 0.7314 - loss: 0.9102 - val_accuracy: 0.7595 - val_loss: 0.9340\n",
            "Epoch 8/20\n",
            "\u001b[1m12/12\u001b[0m \u001b[32m━━━━━━━━━━━━━━━━━━━━\u001b[0m\u001b[37m\u001b[0m \u001b[1m3s\u001b[0m 273ms/step - accuracy: 0.7489 - loss: 0.8529 - val_accuracy: 0.7595 - val_loss: 0.8824\n",
            "Epoch 9/20\n",
            "\u001b[1m12/12\u001b[0m \u001b[32m━━━━━━━━━━━━━━━━━━━━\u001b[0m\u001b[37m\u001b[0m \u001b[1m5s\u001b[0m 280ms/step - accuracy: 0.7540 - loss: 0.7807 - val_accuracy: 0.7468 - val_loss: 0.8244\n",
            "Epoch 10/20\n",
            "\u001b[1m12/12\u001b[0m \u001b[32m━━━━━━━━━━━━━━━━━━━━\u001b[0m\u001b[37m\u001b[0m \u001b[1m4s\u001b[0m 308ms/step - accuracy: 0.7782 - loss: 0.6630 - val_accuracy: 0.7722 - val_loss: 0.7808\n",
            "Epoch 11/20\n",
            "\u001b[1m12/12\u001b[0m \u001b[32m━━━━━━━━━━━━━━━━━━━━\u001b[0m\u001b[37m\u001b[0m \u001b[1m3s\u001b[0m 263ms/step - accuracy: 0.8413 - loss: 0.5700 - val_accuracy: 0.7342 - val_loss: 0.8057\n",
            "Epoch 12/20\n",
            "\u001b[1m12/12\u001b[0m \u001b[32m━━━━━━━━━━━━━━━━━━━━\u001b[0m\u001b[37m\u001b[0m \u001b[1m3s\u001b[0m 277ms/step - accuracy: 0.8385 - loss: 0.5417 - val_accuracy: 0.7595 - val_loss: 0.7338\n",
            "Epoch 13/20\n",
            "\u001b[1m12/12\u001b[0m \u001b[32m━━━━━━━━━━━━━━━━━━━━\u001b[0m\u001b[37m\u001b[0m \u001b[1m5s\u001b[0m 290ms/step - accuracy: 0.8637 - loss: 0.4521 - val_accuracy: 0.7342 - val_loss: 0.7633\n",
            "Epoch 14/20\n",
            "\u001b[1m12/12\u001b[0m \u001b[32m━━━━━━━━━━━━━━━━━━━━\u001b[0m\u001b[37m\u001b[0m \u001b[1m5s\u001b[0m 306ms/step - accuracy: 0.8682 - loss: 0.4572 - val_accuracy: 0.8101 - val_loss: 0.6730\n",
            "Epoch 15/20\n",
            "\u001b[1m12/12\u001b[0m \u001b[32m━━━━━━━━━━━━━━━━━━━━\u001b[0m\u001b[37m\u001b[0m \u001b[1m5s\u001b[0m 302ms/step - accuracy: 0.8494 - loss: 0.4638 - val_accuracy: 0.8228 - val_loss: 0.6824\n",
            "Epoch 16/20\n",
            "\u001b[1m12/12\u001b[0m \u001b[32m━━━━━━━━━━━━━━━━━━━━\u001b[0m\u001b[37m\u001b[0m \u001b[1m4s\u001b[0m 309ms/step - accuracy: 0.8910 - loss: 0.3764 - val_accuracy: 0.8228 - val_loss: 0.6025\n",
            "Epoch 17/20\n",
            "\u001b[1m12/12\u001b[0m \u001b[32m━━━━━━━━━━━━━━━━━━━━\u001b[0m\u001b[37m\u001b[0m \u001b[1m3s\u001b[0m 269ms/step - accuracy: 0.9082 - loss: 0.3391 - val_accuracy: 0.8101 - val_loss: 0.6713\n",
            "Epoch 18/20\n",
            "\u001b[1m12/12\u001b[0m \u001b[32m━━━━━━━━━━━━━━━━━━━━\u001b[0m\u001b[37m\u001b[0m \u001b[1m5s\u001b[0m 287ms/step - accuracy: 0.8959 - loss: 0.3455 - val_accuracy: 0.8354 - val_loss: 0.5837\n",
            "Epoch 19/20\n",
            "\u001b[1m12/12\u001b[0m \u001b[32m━━━━━━━━━━━━━━━━━━━━\u001b[0m\u001b[37m\u001b[0m \u001b[1m5s\u001b[0m 272ms/step - accuracy: 0.9272 - loss: 0.2889 - val_accuracy: 0.8608 - val_loss: 0.6329\n",
            "Epoch 20/20\n",
            "\u001b[1m12/12\u001b[0m \u001b[32m━━━━━━━━━━━━━━━━━━━━\u001b[0m\u001b[37m\u001b[0m \u001b[1m3s\u001b[0m 272ms/step - accuracy: 0.9264 - loss: 0.2946 - val_accuracy: 0.7975 - val_loss: 0.6285\n"
          ]
        },
        {
          "output_type": "execute_result",
          "data": {
            "text/plain": [
              "<keras.src.callbacks.history.History at 0x7b9b48142d90>"
            ]
          },
          "metadata": {},
          "execution_count": 10
        }
      ]
    },
    {
      "cell_type": "markdown",
      "source": [
        "Fine tuning"
      ],
      "metadata": {
        "id": "S7TkJdwI5fN6"
      }
    },
    {
      "cell_type": "code",
      "source": [
        "# Nakon osnovnog treniranja otključavaju se slojevi baznog modela i primenjuje se fine tuning\n",
        "\n",
        "#for layer in base_model.layers[100:]:\n",
        "  #layer.trainable = True\n",
        "\n",
        "base_model.trainable = True\n",
        "\n",
        "# Kompajliranje tog novog modela\n",
        "\n",
        "model.compile(optimizer = keras.optimizers.Adam(1e-5), loss = keras.losses.SparseCategoricalCrossentropy(), metrics = ['accuracy'])\n",
        "\n",
        "# Treniranje modela\n",
        "\n",
        "model.fit(X_train,Y_train, batch_size = 64, epochs = 15, callbacks=callbacks, validation_split=0.1)\n"
      ],
      "metadata": {
        "colab": {
          "base_uri": "https://localhost:8080/"
        },
        "id": "U34uMsCB5l9G",
        "outputId": "c16eb74d-25f3-4d07-d5b8-8fc54b4278ff"
      },
      "execution_count": 11,
      "outputs": [
        {
          "output_type": "stream",
          "name": "stdout",
          "text": [
            "Epoch 1/15\n",
            "\u001b[1m12/12\u001b[0m \u001b[32m━━━━━━━━━━━━━━━━━━━━\u001b[0m\u001b[37m\u001b[0m \u001b[1m56s\u001b[0m 1s/step - accuracy: 0.7452 - loss: 0.7556 - val_accuracy: 0.6962 - val_loss: 0.7300\n",
            "Epoch 2/15\n",
            "\u001b[1m12/12\u001b[0m \u001b[32m━━━━━━━━━━━━━━━━━━━━\u001b[0m\u001b[37m\u001b[0m \u001b[1m12s\u001b[0m 998ms/step - accuracy: 0.8709 - loss: 0.4800 - val_accuracy: 0.6582 - val_loss: 0.8745\n",
            "Epoch 3/15\n",
            "\u001b[1m12/12\u001b[0m \u001b[32m━━━━━━━━━━━━━━━━━━━━\u001b[0m\u001b[37m\u001b[0m \u001b[1m21s\u001b[0m 998ms/step - accuracy: 0.9189 - loss: 0.3566 - val_accuracy: 0.7089 - val_loss: 0.7215\n",
            "Epoch 4/15\n",
            "\u001b[1m12/12\u001b[0m \u001b[32m━━━━━━━━━━━━━━━━━━━━\u001b[0m\u001b[37m\u001b[0m \u001b[1m20s\u001b[0m 988ms/step - accuracy: 0.9371 - loss: 0.2961 - val_accuracy: 0.7468 - val_loss: 0.5736\n",
            "Epoch 5/15\n",
            "\u001b[1m12/12\u001b[0m \u001b[32m━━━━━━━━━━━━━━━━━━━━\u001b[0m\u001b[37m\u001b[0m \u001b[1m21s\u001b[0m 1s/step - accuracy: 0.9580 - loss: 0.2336 - val_accuracy: 0.8101 - val_loss: 0.4800\n",
            "Epoch 6/15\n",
            "\u001b[1m12/12\u001b[0m \u001b[32m━━━━━━━━━━━━━━━━━━━━\u001b[0m\u001b[37m\u001b[0m \u001b[1m20s\u001b[0m 999ms/step - accuracy: 0.9678 - loss: 0.1761 - val_accuracy: 0.8608 - val_loss: 0.4086\n",
            "Epoch 7/15\n",
            "\u001b[1m12/12\u001b[0m \u001b[32m━━━━━━━━━━━━━━━━━━━━\u001b[0m\u001b[37m\u001b[0m \u001b[1m20s\u001b[0m 975ms/step - accuracy: 0.9787 - loss: 0.1574 - val_accuracy: 0.8987 - val_loss: 0.3558\n",
            "Epoch 8/15\n",
            "\u001b[1m12/12\u001b[0m \u001b[32m━━━━━━━━━━━━━━━━━━━━\u001b[0m\u001b[37m\u001b[0m \u001b[1m21s\u001b[0m 997ms/step - accuracy: 0.9735 - loss: 0.1585 - val_accuracy: 0.9367 - val_loss: 0.2862\n",
            "Epoch 9/15\n",
            "\u001b[1m12/12\u001b[0m \u001b[32m━━━━━━━━━━━━━━━━━━━━\u001b[0m\u001b[37m\u001b[0m \u001b[1m20s\u001b[0m 959ms/step - accuracy: 0.9879 - loss: 0.1212 - val_accuracy: 0.9367 - val_loss: 0.2884\n",
            "Epoch 10/15\n",
            "\u001b[1m12/12\u001b[0m \u001b[32m━━━━━━━━━━━━━━━━━━━━\u001b[0m\u001b[37m\u001b[0m \u001b[1m21s\u001b[0m 982ms/step - accuracy: 0.9791 - loss: 0.1310 - val_accuracy: 0.9114 - val_loss: 0.3286\n",
            "Epoch 11/15\n",
            "\u001b[1m12/12\u001b[0m \u001b[32m━━━━━━━━━━━━━━━━━━━━\u001b[0m\u001b[37m\u001b[0m \u001b[1m12s\u001b[0m 988ms/step - accuracy: 0.9893 - loss: 0.0969 - val_accuracy: 0.9114 - val_loss: 0.3004\n",
            "Epoch 12/15\n",
            "\u001b[1m12/12\u001b[0m \u001b[32m━━━━━━━━━━━━━━━━━━━━\u001b[0m\u001b[37m\u001b[0m \u001b[1m21s\u001b[0m 1s/step - accuracy: 0.9902 - loss: 0.0918 - val_accuracy: 0.9241 - val_loss: 0.2786\n",
            "Epoch 13/15\n",
            "\u001b[1m12/12\u001b[0m \u001b[32m━━━━━━━━━━━━━━━━━━━━\u001b[0m\u001b[37m\u001b[0m \u001b[1m20s\u001b[0m 973ms/step - accuracy: 0.9908 - loss: 0.0822 - val_accuracy: 0.9367 - val_loss: 0.2621\n",
            "Epoch 14/15\n",
            "\u001b[1m12/12\u001b[0m \u001b[32m━━━━━━━━━━━━━━━━━━━━\u001b[0m\u001b[37m\u001b[0m \u001b[1m21s\u001b[0m 1s/step - accuracy: 0.9866 - loss: 0.0877 - val_accuracy: 0.9367 - val_loss: 0.2518\n",
            "Epoch 15/15\n",
            "\u001b[1m12/12\u001b[0m \u001b[32m━━━━━━━━━━━━━━━━━━━━\u001b[0m\u001b[37m\u001b[0m \u001b[1m20s\u001b[0m 973ms/step - accuracy: 0.9949 - loss: 0.0703 - val_accuracy: 0.9367 - val_loss: 0.2401\n"
          ]
        },
        {
          "output_type": "execute_result",
          "data": {
            "text/plain": [
              "<keras.src.callbacks.history.History at 0x7b9ad638b410>"
            ]
          },
          "metadata": {},
          "execution_count": 11
        }
      ]
    },
    {
      "cell_type": "code",
      "source": [
        "# Određivanje predikcija na test set-u\n",
        "\n",
        "y_pred_probs = model.predict(X_test)\n",
        "\n",
        "# Dobijene verovatnoće se prebacuju u stvarne klase\n",
        "\n",
        "y_pred = np.argmax(y_pred_probs, axis=1)\n",
        "\n",
        "print(y_pred)"
      ],
      "metadata": {
        "colab": {
          "base_uri": "https://localhost:8080/"
        },
        "id": "U5KvIB2MDOzk",
        "outputId": "e1e95e76-ca88-4a2a-b1d2-4c2a08c50457"
      },
      "execution_count": 12,
      "outputs": [
        {
          "output_type": "stream",
          "name": "stdout",
          "text": [
            "\u001b[1m7/7\u001b[0m \u001b[32m━━━━━━━━━━━━━━━━━━━━\u001b[0m\u001b[37m\u001b[0m \u001b[1m6s\u001b[0m 471ms/step\n",
            "[6 5 4 6 4 6 6 3 4 7 5 4 2 0 9 6 9 7 5 0 5 3 5 3 7 0 4 4 0 5 5 3 0 4 9 0 5\n",
            " 7 6 7 7 5 0 2 0 3 2 0 2 0 1 1 7 5 3 5 3 3 5 9 9 6 0 8 8 9 2 4 8 2 4 1 8 1\n",
            " 6 1 5 1 5 2 8 6 7 4 1 1 3 7 7 3 4 3 8 2 6 6 6 9 3 1 2 8 1 2 5 1 9 6 7 2 3\n",
            " 5 7 3 7 8 9 1 9 0 4 2 4 0 4 7 0 3 2 4 6 3 0 8 6 9 5 2 6 6 5 3 3 6 9 2 1 4\n",
            " 4 9 3 6 0 4 1 2 8 4 2 5 0 7 8 0 4 8 4 1 2 7 3 6 0 9 9 9 6 0 9 6 5 1 9 7 9\n",
            " 2 3 3 4 3 6 9 8 7 9 9 0]\n"
          ]
        }
      ]
    },
    {
      "cell_type": "code",
      "source": [
        "# Računanje tačnosti\n",
        "\n",
        "accurate = np.sum(y_pred == Y_test)\n",
        "total = len(Y_test)\n",
        "\n",
        "print(f'Accuracy: {accurate/total}')"
      ],
      "metadata": {
        "colab": {
          "base_uri": "https://localhost:8080/"
        },
        "id": "XQdWCWgkNm8P",
        "outputId": "73c53ea2-7631-485c-ffbb-ea1e26ecfef2"
      },
      "execution_count": 13,
      "outputs": [
        {
          "output_type": "stream",
          "name": "stdout",
          "text": [
            "Accuracy: 0.9238578680203046\n"
          ]
        }
      ]
    },
    {
      "cell_type": "code",
      "source": [
        "# Prikazivanje statistike po klasama\n",
        "\n",
        "from sklearn.metrics import classification_report\n",
        "print(classification_report(Y_test, y_pred, target_names=dataset.class_names))"
      ],
      "metadata": {
        "colab": {
          "base_uri": "https://localhost:8080/"
        },
        "id": "PGWo28djZboO",
        "outputId": "b510bfbe-ecb7-418f-ecce-15c35bb87b37"
      },
      "execution_count": 14,
      "outputs": [
        {
          "output_type": "stream",
          "name": "stdout",
          "text": [
            "              precision    recall  f1-score   support\n",
            "\n",
            "      Alpine       0.95      0.87      0.91        23\n",
            "Aston Martin       1.00      0.89      0.94        18\n",
            "     Ferrari       0.89      0.89      0.89        19\n",
            "        Haas       0.78      1.00      0.88        18\n",
            " Kick Sauber       1.00      1.00      1.00        22\n",
            "     McLaren       1.00      0.91      0.95        22\n",
            "    Mercedes       0.87      0.91      0.89        22\n",
            "Racing Bulls       1.00      0.95      0.97        19\n",
            "    Red Bull       0.85      0.85      0.85        13\n",
            "    Williams       0.91      0.95      0.93        21\n",
            "\n",
            "    accuracy                           0.92       197\n",
            "   macro avg       0.93      0.92      0.92       197\n",
            "weighted avg       0.93      0.92      0.92       197\n",
            "\n"
          ]
        }
      ]
    }
  ]
}